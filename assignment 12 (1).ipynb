{
 "cells": [
  {
   "cell_type": "markdown",
   "id": "56415e7f-348f-4f50-9a5b-7ff6f758914c",
   "metadata": {},
   "source": [
    "## 1.mongodb"
   ]
  },
  {
   "cell_type": "code",
   "execution_count": null,
   "id": "03f7dcae-dcae-4062-9f9d-44cbdfeddaf2",
   "metadata": {},
   "outputs": [],
   "source": [
    "MongoDB is a non-relational document database that provides support for JSON-like storage. The MongoDB database has a \n",
    "flexible data model that enables you to store unstructured data, and it provides full indexing support, and replication \n",
    "with rich and intuitive APIs."
   ]
  },
  {
   "cell_type": "markdown",
   "id": "727321fe-ed82-4070-aaca-329c5a697c61",
   "metadata": {},
   "source": [
    "### non relational"
   ]
  },
  {
   "cell_type": "code",
   "execution_count": null,
   "id": "2e333d40-6808-4c90-bc8d-f7aa904813f7",
   "metadata": {},
   "outputs": [],
   "source": [
    "-Non-relational databases are often used when large quantities of complex and diverse data need to be organized.\n",
    "-While MongoDB supports JSON querying, a SQL Database uses SQL query processing. The basic characteristics make MongoDB a\n",
    "more dynamic and complex option that is fit for hierarchical data while a SQL Database remains more predefined and suited\n",
    "for other kinds of data storage."
   ]
  },
  {
   "cell_type": "markdown",
   "id": "388469e2-943a-4626-ae49-49ad06139a4e",
   "metadata": {},
   "source": [
    "### use mongodb"
   ]
  },
  {
   "cell_type": "code",
   "execution_count": null,
   "id": "dff920b9-825e-4ce5-987d-7dc855397f13",
   "metadata": {},
   "outputs": [],
   "source": [
    "-While MongoDB supports JSON querying, a SQL Database uses SQL query processing. The basic characteristics make MongoDB a\n",
    "more dynamic and complex option that is fit for hierarchical data while a SQL Database remains more predefined and suited\n",
    "for other kinds of data storage."
   ]
  },
  {
   "cell_type": "markdown",
   "id": "7638431e-ed00-4edd-bddc-120b2418eb2f",
   "metadata": {},
   "source": [
    "## 2.features of mongodb"
   ]
  },
  {
   "cell_type": "code",
   "execution_count": null,
   "id": "20e69f49-9273-478b-a6df-e3bd864c867c",
   "metadata": {},
   "outputs": [],
   "source": [
    "-Ad-hoc queries for optimized, real-time analytics. ...\n",
    "-Indexing appropriately for better query executions. ...\n",
    "-Replication for better data availability and stability. ...\n",
    "-Sharding. ...\n",
    "-Load balancing."
   ]
  },
  {
   "cell_type": "markdown",
   "id": "942168fe-9dae-4076-9575-4c7a4707898a",
   "metadata": {},
   "source": [
    "## 3. print the insert record"
   ]
  },
  {
   "cell_type": "code",
   "execution_count": null,
   "id": "ad374cd5-f418-4baa-8e9c-70df8c0575f7",
   "metadata": {},
   "outputs": [],
   "source": [
    "# importing Mongoclient from pymongo\n",
    "from pymongo import MongoClient\n",
    "\n",
    "# Making Connection\n",
    "myclient = MongoClient(\"mongodb://localhost:27017/\")\n",
    "\n",
    "# database\n",
    "db = myclient[\"GFG\"]\n",
    "\n",
    "# Created or Switched to collection\n",
    "# names: GeeksForGeeks\n",
    "collection = db[\"Student\"]\n",
    "\n",
    "# Creating Dictionary of records to be\n",
    "# inserted\n",
    "record = { \"_id\": 5,\n",
    "\t\t\"name\": \"Raju\",\n",
    "\t\t\"Roll No\": \"1005\",\n",
    "\t\t\"Branch\": \"CSE\"}\n",
    "\n",
    "\n",
    "\n",
    "# Inserting the record1 in the collection\n",
    "# by using collection.insert_one()\n",
    "rec_id1 = collection.insert_one(record)\n"
   ]
  },
  {
   "cell_type": "markdown",
   "id": "0902d6b1-146f-41c1-bd1f-3ac579f82b59",
   "metadata": {},
   "source": [
    "## 4. write a code to insert one record.use the find() and find_one() methods to print the inserted record."
   ]
  },
  {
   "cell_type": "code",
   "execution_count": null,
   "id": "e428f8d5-898a-4f8c-8636-6ed2fc255537",
   "metadata": {},
   "outputs": [],
   "source": []
  },
  {
   "cell_type": "code",
   "execution_count": 5,
   "id": "cbfb27e7-6246-4987-94c5-165fb80f8d44",
   "metadata": {},
   "outputs": [
    {
     "ename": "ModuleNotFoundError",
     "evalue": "No module named 'pymongodb'",
     "output_type": "error",
     "traceback": [
      "\u001b[0;31m---------------------------------------------------------------------------\u001b[0m",
      "\u001b[0;31mModuleNotFoundError\u001b[0m                       Traceback (most recent call last)",
      "Cell \u001b[0;32mIn[5], line 1\u001b[0m\n\u001b[0;32m----> 1\u001b[0m \u001b[38;5;28;01mfrom\u001b[39;00m \u001b[38;5;21;01mpymongodb\u001b[39;00m \u001b[38;5;28;01mimport\u001b[39;00m mongoclient\n\u001b[1;32m      3\u001b[0m \u001b[38;5;66;03m#collect to mongoDB\u001b[39;00m\n\u001b[1;32m      4\u001b[0m client \u001b[38;5;241m=\u001b[39m mongoclient(\u001b[38;5;124m'\u001b[39m\u001b[38;5;124m<mongodb_connection_string>\u001b[39m\u001b[38;5;124m'\u001b[39m)\n",
      "\u001b[0;31mModuleNotFoundError\u001b[0m: No module named 'pymongodb'"
     ]
    }
   ],
   "source": [
    "from pymongodb import mongoclient\n",
    "\n",
    "#collect to mongoDB\n",
    "client = mongoclient('<mongodb_connection_string>')\n",
    "db = client['mydatabase'] #replace 'mydatabase'with yourdatabase name\n",
    "collection = db['mycolletion']#replace 'mycollection' with your collection name\n",
    "\n",
    "#insert one record\n",
    "one_record = {\n",
    "    'name': 'john Doe',\n",
    "    'age' :30,\n",
    "    'email':'johndoe@example.com'\n",
    "}\n",
    "collecton.insert_one_one(one_record)\n",
    "print(\"inserted record\")\n",
    "print(one_record)\n",
    "\n",
    "#insert many records\n",
    "many.records =[\n",
    "    {\n",
    "        'name': 'jane smith',\n",
    "        'age' :25,\n",
    "        'email': 'janesmith@example.com'\n",
    "    },\n",
    "    {\n",
    "        'name':'micheal johnson',\n",
    "        'age' :35,\n",
    "        'email':'michealjohnson@exampe.com'\n",
    "    },\n",
    "    {\n",
    "        'name':'sarah williams',\n",
    "        'age' :28,\n",
    "        'email':'sarahwillams@example.com'\n",
    "    }\n",
    "]\n",
    "collection.insert_many(many_records)\n",
    "print(\"\\nInserted records:\")\n",
    "for record in many_records:\n",
    "    print(record)\n",
    "    \n",
    "# find and print the inserted record\n",
    "found_record = collection.find_one({'name':'john Doe'})\n",
    "print(\"\\nfound record:\")\n",
    "print(found_record)"
   ]
  },
  {
   "cell_type": "markdown",
   "id": "7e37c8a7-e97b-4147-a3b9-d194917a782c",
   "metadata": {},
   "source": [
    "## 5.simple code to demonstrate"
   ]
  },
  {
   "cell_type": "markdown",
   "id": "b88c51aa-fe81-420d-b864-af89e0fabdd5",
   "metadata": {},
   "source": [
    "### find()"
   ]
  },
  {
   "cell_type": "code",
   "execution_count": null,
   "id": "066d721d-4453-4827-a223-f66d61f04bf6",
   "metadata": {},
   "outputs": [],
   "source": [
    "in MongoDB,the find() method is used to query the data base and retrieve documents that match certain criteria.It allows \n",
    "you specify conditions to filter the documents and retrieve the desired results."
   ]
  },
  {
   "cell_type": "markdown",
   "id": "b0e19987-c4a5-4bd4-bc18-3db8ae364b97",
   "metadata": {},
   "source": [
    "## 6.sort() method"
   ]
  },
  {
   "cell_type": "code",
   "execution_count": null,
   "id": "c5e31170-6ded-4168-a847-cdc643b45bf0",
   "metadata": {},
   "outputs": [],
   "source": [
    "Use the sort() method to sort the result in ascending or descending order.\n",
    "\n",
    "The sort() method takes one parameter for \"fieldname\" and one parameter for \"direction\" (ascending is the default direction)."
   ]
  },
  {
   "cell_type": "code",
   "execution_count": null,
   "id": "a5d469d8-c19c-4d8b-b266-06dddf926ecc",
   "metadata": {},
   "outputs": [],
   "source": [
    "import pymongo\n",
    "\n",
    "myclient = pymongo.MongoClient(\"mongodb://localhost:27017/\")\n",
    "mydb = myclient[\"mydatabase\"]\n",
    "mycol = mydb[\"customers\"]\n",
    "\n",
    "mydoc = mycol.find().sort(\"name\")\n",
    "\n",
    "for x in mydoc:\n",
    "    print(x)\n"
   ]
  },
  {
   "cell_type": "markdown",
   "id": "95391680-7027-4949-9af4-aeb644f1df2e",
   "metadata": {},
   "source": [
    "## 7. delete_one(),delete_many() and drop()"
   ]
  },
  {
   "cell_type": "markdown",
   "id": "56b860fb-4c48-49b8-92bd-4f41fa1ba7d5",
   "metadata": {},
   "source": [
    "### delete_one()"
   ]
  },
  {
   "cell_type": "code",
   "execution_count": null,
   "id": "aa71d2ee-7de4-4445-8347-fdc72ace4bfb",
   "metadata": {},
   "outputs": [],
   "source": [
    "The deleteOne() method allows you to delete a single document from a collection.\n",
    "\n",
    "The deleteOne() method has the following syntax:\n",
    "\n",
    "db.collection.deleteOne(filter, option)\n"
   ]
  },
  {
   "cell_type": "markdown",
   "id": "4a25dea9-8a38-4862-be44-91e7aba78e52",
   "metadata": {},
   "source": [
    "### delete_many()"
   ]
  },
  {
   "cell_type": "code",
   "execution_count": null,
   "id": "5d08624c-7e90-4d62-9b9d-8f323d0ee71b",
   "metadata": {},
   "outputs": [],
   "source": [
    "Delete_many() is used when one needs to delete more than one document. A query object containing which document to be deleted \n",
    "is created and is passed as the first parameter to the delete_many().\n",
    "\n",
    "Syntax:\n",
    "\n",
    "collection.delete_many(filter, collation=None, hint=None, session=None)\n"
   ]
  },
  {
   "cell_type": "markdown",
   "id": "e47ab464-2246-40f5-8523-0110f8f6831d",
   "metadata": {},
   "source": [
    "### drop()"
   ]
  },
  {
   "cell_type": "code",
   "execution_count": null,
   "id": "87dc270f-cf26-4e09-a541-33383ef9b670",
   "metadata": {},
   "outputs": [],
   "source": [
    "The drop() method returns true if the collection was dropped successfully, and false if the collection does not exist."
   ]
  }
 ],
 "metadata": {
  "kernelspec": {
   "display_name": "Python 3 (ipykernel)",
   "language": "python",
   "name": "python3"
  },
  "language_info": {
   "codemirror_mode": {
    "name": "ipython",
    "version": 3
   },
   "file_extension": ".py",
   "mimetype": "text/x-python",
   "name": "python",
   "nbconvert_exporter": "python",
   "pygments_lexer": "ipython3",
   "version": "3.10.8"
  }
 },
 "nbformat": 4,
 "nbformat_minor": 5
}
